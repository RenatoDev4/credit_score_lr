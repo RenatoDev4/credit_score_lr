{
 "cells": [
  {
   "cell_type": "code",
   "execution_count": 1,
   "metadata": {},
   "outputs": [],
   "source": [
    "import pandas as pd"
   ]
  },
  {
   "cell_type": "markdown",
   "metadata": {},
   "source": [
    "# Importing Train Dataset\n",
    "---"
   ]
  },
  {
   "cell_type": "code",
   "execution_count": 2,
   "metadata": {},
   "outputs": [
    {
     "name": "stderr",
     "output_type": "stream",
     "text": [
      "/tmp/ipykernel_22901/3764379480.py:1: DtypeWarning: Columns (26) have mixed types. Specify dtype option on import or set low_memory=False.\n",
      "  train_data = pd.read_csv('datasets/train.csv')\n"
     ]
    }
   ],
   "source": [
    "train_data = pd.read_csv('datasets/train.csv')"
   ]
  },
  {
   "cell_type": "code",
   "execution_count": 3,
   "metadata": {},
   "outputs": [
    {
     "data": {
      "text/plain": [
       "(100000, 28)"
      ]
     },
     "execution_count": 3,
     "metadata": {},
     "output_type": "execute_result"
    }
   ],
   "source": [
    "train_data.shape"
   ]
  },
  {
   "cell_type": "code",
   "execution_count": 4,
   "metadata": {},
   "outputs": [],
   "source": [
    "pd.set_option('display.max_columns', 30)"
   ]
  },
  {
   "cell_type": "markdown",
   "metadata": {},
   "source": [
    "# Creating copy of dataset\n",
    "---"
   ]
  },
  {
   "cell_type": "code",
   "execution_count": 5,
   "metadata": {},
   "outputs": [],
   "source": [
    "full_data = train_data.copy()"
   ]
  },
  {
   "cell_type": "markdown",
   "metadata": {},
   "source": [
    "# Creating new colum \"SAFRA\" and separate datasets between training, testing and oot\n",
    "---"
   ]
  },
  {
   "cell_type": "code",
   "execution_count": 6,
   "metadata": {},
   "outputs": [],
   "source": [
    "import random\n",
    "\n",
    "safras = []\n",
    "\n",
    "for ano in range(2013, 2024):\n",
    "    for mes in range(1, 13):\n",
    "        safras.append(f\"{ano}{mes:02d}\")\n",
    "\n",
    "safras = safras[:len(full_data)] * (len(full_data) // len(safras)) + safras[:len(full_data) % len(safras)]\n",
    "\n",
    "random.shuffle(safras)\n",
    "\n",
    "full_data.insert(1, 'SAFRA', safras[:len(full_data)])\n",
    "full_data['SAFRA'] = full_data['SAFRA'].astype(int)"
   ]
  },
  {
   "cell_type": "markdown",
   "metadata": {},
   "source": [
    "# Cleaning dataset\n",
    "---"
   ]
  },
  {
   "cell_type": "code",
   "execution_count": 7,
   "metadata": {},
   "outputs": [],
   "source": [
    "full_data['Num_of_Loan'] = full_data['Num_of_Loan'].str.replace('_', '')\n",
    "full_data['Num_of_Loan'] = full_data['Num_of_Loan'].astype(int)\n",
    "median_num_of_loan = full_data['Num_of_Loan'].median()\n",
    "full_data['Num_of_Loan'].fillna(median_num_of_loan, inplace=True)\n"
   ]
  },
  {
   "cell_type": "code",
   "execution_count": 8,
   "metadata": {},
   "outputs": [],
   "source": [
    "full_data['Num_of_Delayed_Payment'] = full_data['Num_of_Delayed_Payment'].str.replace('_', '')\n",
    "median_num_of_delayed = full_data['Num_of_Delayed_Payment'].median()\n",
    "full_data['Num_of_Delayed_Payment'].fillna(median_num_of_delayed, inplace=True)\n",
    "full_data['Num_of_Delayed_Payment'] = full_data['Num_of_Delayed_Payment'].astype(int)"
   ]
  },
  {
   "cell_type": "code",
   "execution_count": 9,
   "metadata": {},
   "outputs": [],
   "source": [
    "full_data['Annual_Income'] = full_data['Annual_Income'].str.replace('_', '')\n",
    "full_data['Annual_Income'] = full_data['Annual_Income'].astype(float)\n",
    "median_annual_income = full_data['Annual_Income'].median()\n",
    "full_data['Annual_Income'].fillna(median_annual_income, inplace=True)"
   ]
  },
  {
   "cell_type": "code",
   "execution_count": 10,
   "metadata": {},
   "outputs": [],
   "source": [
    "full_data['Changed_Credit_Limit'] = full_data['Changed_Credit_Limit'].str.replace('_', '')\n",
    "full_data['Changed_Credit_Limit'] = full_data['Changed_Credit_Limit'].replace('', float('nan'))\n",
    "median_changed_credit_limit = full_data['Changed_Credit_Limit'].median()\n",
    "full_data['Changed_Credit_Limit'].fillna(median_changed_credit_limit, inplace=True)\n",
    "full_data['Changed_Credit_Limit'] = full_data['Changed_Credit_Limit'].astype(float)"
   ]
  },
  {
   "cell_type": "code",
   "execution_count": 11,
   "metadata": {},
   "outputs": [],
   "source": [
    "full_data['Outstanding_Debt'] = full_data['Outstanding_Debt'].str.replace('_', '')\n",
    "full_data['Outstanding_Debt'] = full_data['Outstanding_Debt'].astype(float)\n",
    "median_outstanding_debt = full_data['Outstanding_Debt'].median()\n",
    "full_data['Outstanding_Debt'].fillna(median_outstanding_debt, inplace=True)"
   ]
  },
  {
   "cell_type": "code",
   "execution_count": 12,
   "metadata": {},
   "outputs": [],
   "source": [
    "full_data['Amount_invested_monthly'] = full_data['Amount_invested_monthly'].str.replace('__', '')\n",
    "full_data['Amount_invested_monthly'] = full_data['Amount_invested_monthly'].astype(float)\n",
    "median_amount_invested= full_data['Amount_invested_monthly'].median()\n",
    "full_data['Amount_invested_monthly'].fillna(median_amount_invested, inplace=True)"
   ]
  },
  {
   "cell_type": "code",
   "execution_count": 13,
   "metadata": {},
   "outputs": [],
   "source": [
    "full_data['Monthly_Balance'] = full_data['Monthly_Balance'].str.replace('__-', '')\n",
    "full_data['Monthly_Balance'] = full_data['Monthly_Balance'].str.replace('__', '')\n",
    "full_data['Monthly_Balance'] = full_data['Monthly_Balance'].astype(float)\n",
    "median_monthly_balance = full_data['Monthly_Balance'].median()\n",
    "full_data['Monthly_Balance'].fillna(median_monthly_balance, inplace=True)"
   ]
  },
  {
   "cell_type": "code",
   "execution_count": 14,
   "metadata": {},
   "outputs": [],
   "source": [
    "median_monthly_balance = full_data['Monthly_Inhand_Salary'].mean()\n",
    "full_data['Monthly_Inhand_Salary'].fillna(median_monthly_balance, inplace=True)"
   ]
  },
  {
   "cell_type": "code",
   "execution_count": 15,
   "metadata": {},
   "outputs": [],
   "source": [
    "median_num_credit_inquiries = full_data['Num_Credit_Inquiries'].mean()\n",
    "full_data['Num_Credit_Inquiries'].fillna(median_num_credit_inquiries, inplace=True)"
   ]
  },
  {
   "cell_type": "code",
   "execution_count": 16,
   "metadata": {},
   "outputs": [],
   "source": [
    "full_data['Age'] = full_data['Age'].str.replace('_', '')\n",
    "full_data['Age'] = full_data['Age'].astype(float)\n",
    "mean_age = full_data['Age'].median()\n",
    "full_data.loc[full_data['Age'] < 0, 'Age'] = mean_age"
   ]
  },
  {
   "cell_type": "code",
   "execution_count": 17,
   "metadata": {},
   "outputs": [],
   "source": [
    "full_data.drop(columns=['Name', 'Month', 'SSN', 'Customer_ID'], inplace=True)"
   ]
  },
  {
   "cell_type": "code",
   "execution_count": 18,
   "metadata": {},
   "outputs": [],
   "source": [
    "full_data['Occupation'] = full_data['Occupation'].replace('_______', 'Police')"
   ]
  },
  {
   "cell_type": "code",
   "execution_count": 19,
   "metadata": {},
   "outputs": [
    {
     "data": {
      "text/html": [
       "<div>\n",
       "<style scoped>\n",
       "    .dataframe tbody tr th:only-of-type {\n",
       "        vertical-align: middle;\n",
       "    }\n",
       "\n",
       "    .dataframe tbody tr th {\n",
       "        vertical-align: top;\n",
       "    }\n",
       "\n",
       "    .dataframe thead th {\n",
       "        text-align: right;\n",
       "    }\n",
       "</style>\n",
       "<table border=\"1\" class=\"dataframe\">\n",
       "  <thead>\n",
       "    <tr style=\"text-align: right;\">\n",
       "      <th></th>\n",
       "      <th>ID</th>\n",
       "      <th>SAFRA</th>\n",
       "      <th>Age</th>\n",
       "      <th>Occupation</th>\n",
       "      <th>Annual_Income</th>\n",
       "      <th>Monthly_Inhand_Salary</th>\n",
       "      <th>Num_Bank_Accounts</th>\n",
       "      <th>Num_Credit_Card</th>\n",
       "      <th>Interest_Rate</th>\n",
       "      <th>Num_of_Loan</th>\n",
       "      <th>Type_of_Loan</th>\n",
       "      <th>Delay_from_due_date</th>\n",
       "      <th>Num_of_Delayed_Payment</th>\n",
       "      <th>Changed_Credit_Limit</th>\n",
       "      <th>Num_Credit_Inquiries</th>\n",
       "      <th>Credit_Mix</th>\n",
       "      <th>Outstanding_Debt</th>\n",
       "      <th>Credit_Utilization_Ratio</th>\n",
       "      <th>Credit_History_Age</th>\n",
       "      <th>Payment_of_Min_Amount</th>\n",
       "      <th>Total_EMI_per_month</th>\n",
       "      <th>Amount_invested_monthly</th>\n",
       "      <th>Payment_Behaviour</th>\n",
       "      <th>Monthly_Balance</th>\n",
       "      <th>Credit_Score</th>\n",
       "    </tr>\n",
       "  </thead>\n",
       "  <tbody>\n",
       "    <tr>\n",
       "      <th>0</th>\n",
       "      <td>0x1602</td>\n",
       "      <td>201402</td>\n",
       "      <td>23.0</td>\n",
       "      <td>Scientist</td>\n",
       "      <td>19114.12</td>\n",
       "      <td>1824.843333</td>\n",
       "      <td>3</td>\n",
       "      <td>4</td>\n",
       "      <td>3</td>\n",
       "      <td>4</td>\n",
       "      <td>Auto Loan, Credit-Builder Loan, Personal Loan,...</td>\n",
       "      <td>3</td>\n",
       "      <td>7</td>\n",
       "      <td>11.27</td>\n",
       "      <td>4.0</td>\n",
       "      <td>_</td>\n",
       "      <td>809.98</td>\n",
       "      <td>26.822620</td>\n",
       "      <td>22 Years and 1 Months</td>\n",
       "      <td>No</td>\n",
       "      <td>49.574949</td>\n",
       "      <td>80.415295</td>\n",
       "      <td>High_spent_Small_value_payments</td>\n",
       "      <td>312.494089</td>\n",
       "      <td>Good</td>\n",
       "    </tr>\n",
       "    <tr>\n",
       "      <th>1</th>\n",
       "      <td>0x1603</td>\n",
       "      <td>202210</td>\n",
       "      <td>23.0</td>\n",
       "      <td>Scientist</td>\n",
       "      <td>19114.12</td>\n",
       "      <td>4194.170850</td>\n",
       "      <td>3</td>\n",
       "      <td>4</td>\n",
       "      <td>3</td>\n",
       "      <td>4</td>\n",
       "      <td>Auto Loan, Credit-Builder Loan, Personal Loan,...</td>\n",
       "      <td>-1</td>\n",
       "      <td>14</td>\n",
       "      <td>11.27</td>\n",
       "      <td>4.0</td>\n",
       "      <td>Good</td>\n",
       "      <td>809.98</td>\n",
       "      <td>31.944960</td>\n",
       "      <td>NaN</td>\n",
       "      <td>No</td>\n",
       "      <td>49.574949</td>\n",
       "      <td>118.280222</td>\n",
       "      <td>Low_spent_Large_value_payments</td>\n",
       "      <td>284.629162</td>\n",
       "      <td>Good</td>\n",
       "    </tr>\n",
       "    <tr>\n",
       "      <th>2</th>\n",
       "      <td>0x1604</td>\n",
       "      <td>201607</td>\n",
       "      <td>33.0</td>\n",
       "      <td>Scientist</td>\n",
       "      <td>19114.12</td>\n",
       "      <td>4194.170850</td>\n",
       "      <td>3</td>\n",
       "      <td>4</td>\n",
       "      <td>3</td>\n",
       "      <td>4</td>\n",
       "      <td>Auto Loan, Credit-Builder Loan, Personal Loan,...</td>\n",
       "      <td>3</td>\n",
       "      <td>7</td>\n",
       "      <td>9.40</td>\n",
       "      <td>4.0</td>\n",
       "      <td>Good</td>\n",
       "      <td>809.98</td>\n",
       "      <td>28.609352</td>\n",
       "      <td>22 Years and 3 Months</td>\n",
       "      <td>No</td>\n",
       "      <td>49.574949</td>\n",
       "      <td>81.699521</td>\n",
       "      <td>Low_spent_Medium_value_payments</td>\n",
       "      <td>331.209863</td>\n",
       "      <td>Good</td>\n",
       "    </tr>\n",
       "    <tr>\n",
       "      <th>3</th>\n",
       "      <td>0x1605</td>\n",
       "      <td>202103</td>\n",
       "      <td>23.0</td>\n",
       "      <td>Scientist</td>\n",
       "      <td>19114.12</td>\n",
       "      <td>4194.170850</td>\n",
       "      <td>3</td>\n",
       "      <td>4</td>\n",
       "      <td>3</td>\n",
       "      <td>4</td>\n",
       "      <td>Auto Loan, Credit-Builder Loan, Personal Loan,...</td>\n",
       "      <td>5</td>\n",
       "      <td>4</td>\n",
       "      <td>6.27</td>\n",
       "      <td>4.0</td>\n",
       "      <td>Good</td>\n",
       "      <td>809.98</td>\n",
       "      <td>31.377862</td>\n",
       "      <td>22 Years and 4 Months</td>\n",
       "      <td>No</td>\n",
       "      <td>49.574949</td>\n",
       "      <td>199.458074</td>\n",
       "      <td>Low_spent_Small_value_payments</td>\n",
       "      <td>223.451310</td>\n",
       "      <td>Good</td>\n",
       "    </tr>\n",
       "    <tr>\n",
       "      <th>4</th>\n",
       "      <td>0x1606</td>\n",
       "      <td>201802</td>\n",
       "      <td>23.0</td>\n",
       "      <td>Scientist</td>\n",
       "      <td>19114.12</td>\n",
       "      <td>1824.843333</td>\n",
       "      <td>3</td>\n",
       "      <td>4</td>\n",
       "      <td>3</td>\n",
       "      <td>4</td>\n",
       "      <td>Auto Loan, Credit-Builder Loan, Personal Loan,...</td>\n",
       "      <td>6</td>\n",
       "      <td>14</td>\n",
       "      <td>11.27</td>\n",
       "      <td>4.0</td>\n",
       "      <td>Good</td>\n",
       "      <td>809.98</td>\n",
       "      <td>24.797347</td>\n",
       "      <td>22 Years and 5 Months</td>\n",
       "      <td>No</td>\n",
       "      <td>49.574949</td>\n",
       "      <td>41.420153</td>\n",
       "      <td>High_spent_Medium_value_payments</td>\n",
       "      <td>341.489231</td>\n",
       "      <td>Good</td>\n",
       "    </tr>\n",
       "  </tbody>\n",
       "</table>\n",
       "</div>"
      ],
      "text/plain": [
       "       ID   SAFRA   Age Occupation  Annual_Income  Monthly_Inhand_Salary  \\\n",
       "0  0x1602  201402  23.0  Scientist       19114.12            1824.843333   \n",
       "1  0x1603  202210  23.0  Scientist       19114.12            4194.170850   \n",
       "2  0x1604  201607  33.0  Scientist       19114.12            4194.170850   \n",
       "3  0x1605  202103  23.0  Scientist       19114.12            4194.170850   \n",
       "4  0x1606  201802  23.0  Scientist       19114.12            1824.843333   \n",
       "\n",
       "   Num_Bank_Accounts  Num_Credit_Card  Interest_Rate  Num_of_Loan  \\\n",
       "0                  3                4              3            4   \n",
       "1                  3                4              3            4   \n",
       "2                  3                4              3            4   \n",
       "3                  3                4              3            4   \n",
       "4                  3                4              3            4   \n",
       "\n",
       "                                        Type_of_Loan  Delay_from_due_date  \\\n",
       "0  Auto Loan, Credit-Builder Loan, Personal Loan,...                    3   \n",
       "1  Auto Loan, Credit-Builder Loan, Personal Loan,...                   -1   \n",
       "2  Auto Loan, Credit-Builder Loan, Personal Loan,...                    3   \n",
       "3  Auto Loan, Credit-Builder Loan, Personal Loan,...                    5   \n",
       "4  Auto Loan, Credit-Builder Loan, Personal Loan,...                    6   \n",
       "\n",
       "   Num_of_Delayed_Payment  Changed_Credit_Limit  Num_Credit_Inquiries  \\\n",
       "0                       7                 11.27                   4.0   \n",
       "1                      14                 11.27                   4.0   \n",
       "2                       7                  9.40                   4.0   \n",
       "3                       4                  6.27                   4.0   \n",
       "4                      14                 11.27                   4.0   \n",
       "\n",
       "  Credit_Mix  Outstanding_Debt  Credit_Utilization_Ratio  \\\n",
       "0          _            809.98                 26.822620   \n",
       "1       Good            809.98                 31.944960   \n",
       "2       Good            809.98                 28.609352   \n",
       "3       Good            809.98                 31.377862   \n",
       "4       Good            809.98                 24.797347   \n",
       "\n",
       "      Credit_History_Age Payment_of_Min_Amount  Total_EMI_per_month  \\\n",
       "0  22 Years and 1 Months                    No            49.574949   \n",
       "1                    NaN                    No            49.574949   \n",
       "2  22 Years and 3 Months                    No            49.574949   \n",
       "3  22 Years and 4 Months                    No            49.574949   \n",
       "4  22 Years and 5 Months                    No            49.574949   \n",
       "\n",
       "   Amount_invested_monthly                 Payment_Behaviour  Monthly_Balance  \\\n",
       "0                80.415295   High_spent_Small_value_payments       312.494089   \n",
       "1               118.280222    Low_spent_Large_value_payments       284.629162   \n",
       "2                81.699521   Low_spent_Medium_value_payments       331.209863   \n",
       "3               199.458074    Low_spent_Small_value_payments       223.451310   \n",
       "4                41.420153  High_spent_Medium_value_payments       341.489231   \n",
       "\n",
       "  Credit_Score  \n",
       "0         Good  \n",
       "1         Good  \n",
       "2         Good  \n",
       "3         Good  \n",
       "4         Good  "
      ]
     },
     "execution_count": 19,
     "metadata": {},
     "output_type": "execute_result"
    }
   ],
   "source": [
    "full_data.head()"
   ]
  },
  {
   "cell_type": "markdown",
   "metadata": {},
   "source": [
    "# Transforming strings into binary\n",
    "\n",
    "---"
   ]
  },
  {
   "cell_type": "code",
   "execution_count": null,
   "metadata": {},
   "outputs": [],
   "source": [
    "import numpy as np\n",
    "\n",
    "def transform_credit_score(credit_score):\n",
    "    if credit_score == 'Good':\n",
    "        return 1\n",
    "    elif credit_score == 'Poor':\n",
    "        return 0\n",
    "    else:\n",
    "        return np.random.choice([0, 1])"
   ]
  },
  {
   "cell_type": "code",
   "execution_count": null,
   "metadata": {},
   "outputs": [],
   "source": [
    "def transform_credit_mix(credit_mix):\n",
    "    if credit_mix == 'Good':\n",
    "        return 1\n",
    "    elif credit_mix == 'Bad':\n",
    "        return 0\n",
    "    else:\n",
    "        return np.random.choice([0, 1])"
   ]
  },
  {
   "cell_type": "code",
   "execution_count": null,
   "metadata": {},
   "outputs": [],
   "source": [
    "def transform_payment_behaviour(payment_behaviour):\n",
    "    full_data['Monthly_Balance'] = full_data['Monthly_Balance'].astype(float)\n",
    "    if payment_behaviour == '!@9#%8':\n",
    "        return 'High_spent_Medium_value_payments'\n",
    "    else:\n",
    "        return payment_behaviour"
   ]
  },
  {
   "cell_type": "code",
   "execution_count": null,
   "metadata": {},
   "outputs": [],
   "source": [
    "def transform_payment_min_amount(payment_of_min_amount):\n",
    "    if payment_of_min_amount == 'Yes':\n",
    "        return 1\n",
    "    elif payment_of_min_amount == 'No':\n",
    "        return 0\n",
    "    else:\n",
    "        return np.random.choice([0, 1])"
   ]
  },
  {
   "cell_type": "code",
   "execution_count": null,
   "metadata": {},
   "outputs": [],
   "source": [
    "full_data['Credit_Mix'] = full_data['Credit_Mix'].apply(transform_credit_mix)"
   ]
  },
  {
   "cell_type": "code",
   "execution_count": null,
   "metadata": {},
   "outputs": [],
   "source": [
    "full_data['Credit_Score'] = full_data['Credit_Score'].apply(transform_credit_score)"
   ]
  },
  {
   "cell_type": "code",
   "execution_count": null,
   "metadata": {},
   "outputs": [],
   "source": [
    "full_data['Payment_Behaviour'] = full_data['Payment_Behaviour'].apply(transform_payment_behaviour)"
   ]
  },
  {
   "cell_type": "code",
   "execution_count": null,
   "metadata": {},
   "outputs": [],
   "source": [
    "full_data['Payment_of_Min_Amount'] = full_data['Payment_of_Min_Amount'].apply(transform_payment_min_amount)"
   ]
  },
  {
   "cell_type": "markdown",
   "metadata": {},
   "source": [
    "# Excluding NA and NaN data\n",
    "---"
   ]
  },
  {
   "cell_type": "code",
   "execution_count": null,
   "metadata": {},
   "outputs": [],
   "source": [
    "full_data.dropna(inplace=True)"
   ]
  },
  {
   "cell_type": "code",
   "execution_count": null,
   "metadata": {},
   "outputs": [],
   "source": [
    "full_data.info()"
   ]
  },
  {
   "cell_type": "markdown",
   "metadata": {},
   "source": [
    "# Dataset split\n",
    "---"
   ]
  },
  {
   "cell_type": "code",
   "execution_count": null,
   "metadata": {},
   "outputs": [],
   "source": [
    "OTT = full_data.loc[full_data['SAFRA'] >= 202310 ]\n",
    "OTT['SAFRA'].groupby(OTT['SAFRA']).count()"
   ]
  },
  {
   "cell_type": "code",
   "execution_count": null,
   "metadata": {},
   "outputs": [],
   "source": [
    "DEV = full_data.loc[full_data['SAFRA'] < 202310 ]\n",
    "DEV['SAFRA'].groupby(DEV['SAFRA']).count()"
   ]
  },
  {
   "cell_type": "code",
   "execution_count": null,
   "metadata": {},
   "outputs": [],
   "source": [
    "from sklearn.model_selection import train_test_split\n",
    "\n",
    "X_train, X_test, y_train, y_test = train_test_split(DEV.drop(columns=['Credit_Score']), DEV['Credit_Score'], test_size=0.3, random_state=42)"
   ]
  },
  {
   "cell_type": "markdown",
   "metadata": {},
   "source": [
    "# Encoding categorical variables\n",
    "---"
   ]
  },
  {
   "cell_type": "code",
   "execution_count": null,
   "metadata": {},
   "outputs": [],
   "source": [
    "from category_encoders import TargetEncoder\n",
    "\n",
    "encoder = TargetEncoder()\n",
    "\n",
    "encoded_features = encoder.fit_transform(X_train[['Occupation', 'Type_of_Loan', 'Credit_History_Age', 'Payment_Behaviour']], y_train)\n",
    "\n",
    "X_test_encoded = encoder.transform(X_test[['Occupation', 'Type_of_Loan', 'Credit_History_Age', 'Payment_Behaviour']])\n",
    "\n",
    "X_train_encoded = pd.concat([X_train.drop(['Occupation', 'Type_of_Loan', 'Credit_History_Age', 'Payment_Behaviour'], axis=1), encoded_features], axis=1)\n",
    "X_test_encoded = pd.concat([X_test.drop(['Occupation', 'Type_of_Loan', 'Credit_History_Age', 'Payment_Behaviour'], axis=1), X_test_encoded], axis=1)\n"
   ]
  },
  {
   "cell_type": "code",
   "execution_count": null,
   "metadata": {},
   "outputs": [],
   "source": [
    "X_train_encoded.head()"
   ]
  },
  {
   "cell_type": "code",
   "execution_count": null,
   "metadata": {},
   "outputs": [],
   "source": [
    "X_train_encoded['SAFRA'].groupby(X_train_encoded['SAFRA']).count()"
   ]
  },
  {
   "cell_type": "code",
   "execution_count": null,
   "metadata": {},
   "outputs": [],
   "source": [
    "X_test_encoded['SAFRA'].groupby(X_test_encoded['SAFRA']).count()"
   ]
  },
  {
   "cell_type": "code",
   "execution_count": null,
   "metadata": {},
   "outputs": [],
   "source": [
    "X_train_encoded.to_csv('X_train.csv')"
   ]
  },
  {
   "cell_type": "markdown",
   "metadata": {},
   "source": [
    "# Creating HTML file to check dataframe categories\n",
    "---"
   ]
  },
  {
   "cell_type": "markdown",
   "metadata": {},
   "source": [
    "Checking if there are outliers in the categories if there is treatment using **95-th percentile**"
   ]
  },
  {
   "cell_type": "code",
   "execution_count": null,
   "metadata": {},
   "outputs": [],
   "source": [
    "# from ydata_profiling import ProfileReport\n",
    "\n",
    "# profile = ProfileReport(X_train_encoded, minimal=True)"
   ]
  },
  {
   "cell_type": "code",
   "execution_count": null,
   "metadata": {},
   "outputs": [],
   "source": [
    "# profile.to_file('descritiva.html')"
   ]
  },
  {
   "cell_type": "code",
   "execution_count": null,
   "metadata": {},
   "outputs": [],
   "source": [
    "X_train_encoded.loc[X_train_encoded['Age'] > 53, 'Age'] = 53\n",
    "X_train_encoded.loc[X_train_encoded['Monthly_Balance'] > 797.3109918, 'Monthly_Balance'] = 797.3109918\n",
    "X_train_encoded.loc[X_train_encoded['Annual_Income'] > 132324.945, 'Annual_Income'] = 132324.945\n",
    "X_train_encoded.loc[X_train_encoded['Num_Bank_Accounts'] > 10, 'Num_Bank_Accounts'] = 10\n",
    "X_train_encoded.loc[X_train_encoded['Num_Credit_Card'] > 10, 'Num_Credit_Card'] = 10\n",
    "X_train_encoded.loc[X_train_encoded['Interest_Rate'] > 33, 'Interest_Rate'] = 33\n",
    "X_train_encoded.loc[X_train_encoded['Num_of_Loan'] < 0, 'Num_of_Loan'] = -1\n",
    "X_train_encoded.loc[X_train_encoded['Num_of_Loan'] > 8, 'Num_of_Loan'] = 8\n",
    "X_train_encoded.loc[X_train_encoded['Num_of_Delayed_Payment'] > 24, 'Num_of_Delayed_Payment'] = 24\n",
    "X_train_encoded.loc[X_train_encoded['Num_Credit_Inquiries'] > 15, 'Num_Credit_Inquiries'] = 15\n",
    "X_train_encoded.loc[X_train_encoded['Total_EMI_per_month'] > 434.1300726, 'Total_EMI_per_month'] = 434.1300726"
   ]
  },
  {
   "cell_type": "code",
   "execution_count": null,
   "metadata": {},
   "outputs": [],
   "source": [
    "# from ydata_profiling import ProfileReport\n",
    "\n",
    "# profile = ProfileReport(X_train_encoded, minimal=True)\n",
    "# profile.to_file('descritiva2.html')"
   ]
  },
  {
   "cell_type": "code",
   "execution_count": null,
   "metadata": {},
   "outputs": [],
   "source": [
    "X_train_trat = X_train_encoded.copy()"
   ]
  },
  {
   "cell_type": "markdown",
   "metadata": {},
   "source": [
    "# Using optbinning to check the **IV(Information Value)** of variables\n",
    "---\n",
    "\n",
    "\n",
    "> < 0.02: unpredictable<br>\n",
    "> 0.02 to 0.1: weak<br>\n",
    "> 0.1 to 0.3: medium<br>\n",
    "> 0.3 to 0.5: strong<br>\n",
    "> => 0.51: suspicious"
   ]
  },
  {
   "cell_type": "code",
   "execution_count": null,
   "metadata": {},
   "outputs": [],
   "source": [
    "from optbinning import OptimalBinning, BinningProcess\n",
    "X_train_trat.set_index(['ID', 'SAFRA'], inplace=True)\n",
    "X_train_trat.head()"
   ]
  },
  {
   "cell_type": "code",
   "execution_count": null,
   "metadata": {},
   "outputs": [],
   "source": [
    "categorical_variables = ['Occupation', 'Type_of_Loan', 'Credit_History_Age', 'Payment_Behaviour']"
   ]
  },
  {
   "cell_type": "code",
   "execution_count": null,
   "metadata": {},
   "outputs": [],
   "source": [
    "variable_names = ['Age', 'Annual_Income', 'Monthly_Inhand_Salary',\n",
    "       'Num_Bank_Accounts', 'Num_Credit_Card', 'Interest_Rate', 'Num_of_Loan',\n",
    "       'Delay_from_due_date', 'Num_of_Delayed_Payment', 'Changed_Credit_Limit',\n",
    "       'Num_Credit_Inquiries', 'Credit_Mix', 'Outstanding_Debt',\n",
    "       'Credit_Utilization_Ratio', 'Payment_of_Min_Amount',\n",
    "       'Total_EMI_per_month', 'Amount_invested_monthly', 'Monthly_Balance',\n",
    "       'Occupation', 'Type_of_Loan', 'Credit_History_Age',\n",
    "       'Payment_Behaviour']"
   ]
  },
  {
   "cell_type": "code",
   "execution_count": null,
   "metadata": {},
   "outputs": [],
   "source": [
    "binning_process = BinningProcess(variable_names, categorical_variables=categorical_variables, min_prebin_size=0.1, max_n_bins=3)"
   ]
  },
  {
   "cell_type": "code",
   "execution_count": null,
   "metadata": {},
   "outputs": [],
   "source": [
    "binning_process.fit(X_train_trat, y_train)"
   ]
  },
  {
   "cell_type": "code",
   "execution_count": null,
   "metadata": {},
   "outputs": [],
   "source": [
    "binning_process.summary().sort_values(by=['iv'], ascending=False)"
   ]
  },
  {
   "cell_type": "code",
   "execution_count": null,
   "metadata": {},
   "outputs": [],
   "source": [
    "import pickle\n",
    "\n",
    "with open('binning_process.pickle', 'wb') as handle:\n",
    "    pickle.dump(binning_process, handle, protocol=pickle.HIGHEST_PROTOCOL)"
   ]
  },
  {
   "cell_type": "code",
   "execution_count": null,
   "metadata": {},
   "outputs": [],
   "source": [
    "X_train_transf = binning_process.transform(X_train_trat, metric='bins')"
   ]
  },
  {
   "cell_type": "code",
   "execution_count": null,
   "metadata": {},
   "outputs": [],
   "source": [
    "optb = binning_process.get_binned_variable(\"Interest_Rate\")\n",
    "\n",
    "optb.binning_table.build()"
   ]
  },
  {
   "cell_type": "code",
   "execution_count": null,
   "metadata": {},
   "outputs": [],
   "source": [
    "optb.binning_table.plot(metric=\"event_rate\")"
   ]
  },
  {
   "cell_type": "markdown",
   "metadata": {},
   "source": [
    "# Checking correlation using cramer coefficient\n",
    "---"
   ]
  },
  {
   "cell_type": "code",
   "execution_count": null,
   "metadata": {},
   "outputs": [],
   "source": [
    "from dython import nominal"
   ]
  },
  {
   "cell_type": "code",
   "execution_count": null,
   "metadata": {},
   "outputs": [],
   "source": [
    "z = nominal.associations(X_train_transf, nominal_columns='all', figsize=(20, 20))"
   ]
  },
  {
   "cell_type": "code",
   "execution_count": null,
   "metadata": {},
   "outputs": [],
   "source": [
    "z['corr'].to_csv('crammer.csv')"
   ]
  },
  {
   "cell_type": "code",
   "execution_count": null,
   "metadata": {},
   "outputs": [],
   "source": [
    "import statsmodels.api as sm"
   ]
  },
  {
   "cell_type": "code",
   "execution_count": null,
   "metadata": {},
   "outputs": [],
   "source": [
    "X_train_trat = sm.add_constant(X_train_trat, prepend=False)"
   ]
  },
  {
   "cell_type": "code",
   "execution_count": null,
   "metadata": {},
   "outputs": [],
   "source": [
    "X_train_trat.head()"
   ]
  },
  {
   "cell_type": "code",
   "execution_count": null,
   "metadata": {},
   "outputs": [],
   "source": [
    "variable_names = ['const', 'Age', 'Annual_Income', 'Monthly_Inhand_Salary',\n",
    "       'Num_Bank_Accounts', 'Num_Credit_Card', 'Interest_Rate', 'Num_of_Loan',\n",
    "       'Delay_from_due_date', 'Num_of_Delayed_Payment', 'Changed_Credit_Limit',\n",
    "       'Num_Credit_Inquiries', 'Credit_Mix', 'Outstanding_Debt',\n",
    "       'Credit_Utilization_Ratio', 'Payment_of_Min_Amount',\n",
    "       'Total_EMI_per_month', 'Amount_invested_monthly', 'Monthly_Balance',\n",
    "       'Occupation', 'Type_of_Loan', 'Credit_History_Age',\n",
    "       'Payment_Behaviour']"
   ]
  },
  {
   "cell_type": "code",
   "execution_count": null,
   "metadata": {},
   "outputs": [],
   "source": [
    "y_train = list(y_train)"
   ]
  },
  {
   "cell_type": "code",
   "execution_count": null,
   "metadata": {},
   "outputs": [],
   "source": [
    "log_reg = sm.Logit(y_train, X_train_trat[variable_names]).fit()"
   ]
  },
  {
   "cell_type": "code",
   "execution_count": null,
   "metadata": {},
   "outputs": [],
   "source": [
    "log_reg.summary2()"
   ]
  },
  {
   "cell_type": "code",
   "execution_count": null,
   "metadata": {},
   "outputs": [],
   "source": [
    "filter1 = ['Age', 'Annual_Income', 'Monthly_Inhand_Salary',\n",
    "       'Num_Bank_Accounts', 'Num_Credit_Card', 'Interest_Rate', 'Num_of_Loan',\n",
    "       'Delay_from_due_date', 'Num_of_Delayed_Payment', 'Changed_Credit_Limit',\n",
    "       'Num_Credit_Inquiries', 'Credit_Mix', 'Outstanding_Debt',\n",
    "       'Payment_of_Min_Amount',\n",
    "       'Amount_invested_monthly', 'Monthly_Balance',\n",
    "       'Type_of_Loan', 'Credit_History_Age',\n",
    "       'Payment_Behaviour']"
   ]
  },
  {
   "cell_type": "code",
   "execution_count": null,
   "metadata": {},
   "outputs": [],
   "source": [
    "z = nominal.associations(X_train_transf[filter1], nominal_columns='all', figsize=(20, 20))"
   ]
  },
  {
   "cell_type": "code",
   "execution_count": null,
   "metadata": {},
   "outputs": [],
   "source": [
    "z['corr'].to_csv('crammer.csv')"
   ]
  },
  {
   "cell_type": "code",
   "execution_count": null,
   "metadata": {},
   "outputs": [],
   "source": [
    "filter2 = ['Age', 'Annual_Income',\n",
    "       'Num_Bank_Accounts', 'Num_Credit_Card', 'Interest_Rate', 'Num_of_Loan',\n",
    "       'Delay_from_due_date', 'Num_of_Delayed_Payment', 'Changed_Credit_Limit',\n",
    "       'Num_Credit_Inquiries', 'Credit_Mix', 'Outstanding_Debt',\n",
    "       'Payment_of_Min_Amount',\n",
    "       'Amount_invested_monthly', 'Monthly_Balance',\n",
    "       'Credit_History_Age',\n",
    "       'Payment_Behaviour']"
   ]
  },
  {
   "cell_type": "code",
   "execution_count": null,
   "metadata": {},
   "outputs": [],
   "source": [
    "log_reg = sm.Logit(y_train, X_train_trat[filter2]).fit()"
   ]
  },
  {
   "cell_type": "code",
   "execution_count": null,
   "metadata": {},
   "outputs": [],
   "source": [
    "log_reg.summary2()"
   ]
  },
  {
   "cell_type": "markdown",
   "metadata": {},
   "source": [
    "# Checking VIF\n",
    "---"
   ]
  },
  {
   "cell_type": "markdown",
   "metadata": {},
   "source": [
    "This is another parameter that we use to check if there are still variables with correlation"
   ]
  },
  {
   "cell_type": "code",
   "execution_count": null,
   "metadata": {},
   "outputs": [],
   "source": [
    "from statsmodels.stats.outliers_influence import variance_inflation_factor\n",
    "\n",
    "vif_data = pd.DataFrame()\n",
    "vif_data[\"feature\"] = X_train_trat[filter2].columns\n",
    "\n",
    "vif_data['VIF'] = [variance_inflation_factor(X_train_trat[filter2].values, i)\n",
    "                   for i in range(len(X_train_trat[filter2].columns))]\n",
    "\n",
    "print(vif_data)\n",
    "\n"
   ]
  },
  {
   "cell_type": "code",
   "execution_count": null,
   "metadata": {},
   "outputs": [],
   "source": [
    "VIF1 = ['Age', 'Annual_Income',\n",
    "       'Num_Bank_Accounts', 'Num_Credit_Card', 'Interest_Rate', 'Num_of_Loan',\n",
    "       'Delay_from_due_date', 'Num_of_Delayed_Payment', 'Changed_Credit_Limit',\n",
    "       'Num_Credit_Inquiries', 'Credit_Mix', 'Outstanding_Debt',\n",
    "       'Payment_of_Min_Amount',\n",
    "       'Amount_invested_monthly', 'Monthly_Balance',\n",
    "       'Credit_History_Age']"
   ]
  },
  {
   "cell_type": "code",
   "execution_count": null,
   "metadata": {},
   "outputs": [],
   "source": [
    "from statsmodels.stats.outliers_influence import variance_inflation_factor\n",
    "\n",
    "vif_data = pd.DataFrame()\n",
    "vif_data[\"feature\"] = X_train_trat[VIF1].columns\n",
    "\n",
    "vif_data['VIF'] = [variance_inflation_factor(X_train_trat[VIF1].values, i)\n",
    "                   for i in range(len(X_train_trat[VIF1].columns))]\n",
    "\n",
    "print(vif_data)\n",
    "\n"
   ]
  },
  {
   "cell_type": "code",
   "execution_count": null,
   "metadata": {},
   "outputs": [],
   "source": [
    "VIF2 = ['Age', 'Annual_Income',\n",
    "       'Num_Bank_Accounts', 'Interest_Rate', 'Num_of_Loan',\n",
    "       'Delay_from_due_date', 'Num_of_Delayed_Payment', 'Changed_Credit_Limit',\n",
    "       'Num_Credit_Inquiries', 'Credit_Mix', 'Outstanding_Debt',\n",
    "       'Payment_of_Min_Amount',\n",
    "       'Amount_invested_monthly', 'Monthly_Balance',\n",
    "       'Credit_History_Age']"
   ]
  },
  {
   "cell_type": "code",
   "execution_count": null,
   "metadata": {},
   "outputs": [],
   "source": [
    "from statsmodels.stats.outliers_influence import variance_inflation_factor\n",
    "\n",
    "vif_data = pd.DataFrame()\n",
    "vif_data[\"feature\"] = X_train_trat[VIF2].columns\n",
    "\n",
    "vif_data['VIF'] = [variance_inflation_factor(X_train_trat[VIF2].values, i)\n",
    "                   for i in range(len(X_train_trat[VIF2].columns))]\n",
    "\n",
    "print(vif_data)\n",
    "\n"
   ]
  },
  {
   "cell_type": "code",
   "execution_count": null,
   "metadata": {},
   "outputs": [],
   "source": [
    "VIF3 = ['Age', 'Annual_Income', 'Interest_Rate', 'Num_of_Loan',\n",
    "       'Delay_from_due_date', 'Num_of_Delayed_Payment', 'Changed_Credit_Limit',\n",
    "       'Num_Credit_Inquiries', 'Credit_Mix', 'Outstanding_Debt',\n",
    "       'Payment_of_Min_Amount',\n",
    "       'Amount_invested_monthly', 'Monthly_Balance',\n",
    "       'Credit_History_Age']"
   ]
  },
  {
   "cell_type": "code",
   "execution_count": null,
   "metadata": {},
   "outputs": [],
   "source": [
    "from statsmodels.stats.outliers_influence import variance_inflation_factor\n",
    "\n",
    "vif_data = pd.DataFrame()\n",
    "vif_data[\"feature\"] = X_train_trat[VIF3].columns\n",
    "\n",
    "vif_data['VIF'] = [variance_inflation_factor(X_train_trat[VIF3].values, i)\n",
    "                   for i in range(len(X_train_trat[VIF3].columns))]\n",
    "\n",
    "print(vif_data)\n",
    "\n"
   ]
  },
  {
   "cell_type": "code",
   "execution_count": null,
   "metadata": {},
   "outputs": [],
   "source": [
    "VIF4 = ['Age', 'Annual_Income', 'Interest_Rate', 'Num_of_Loan',\n",
    "       'Delay_from_due_date', 'Num_of_Delayed_Payment', 'Changed_Credit_Limit',\n",
    "       'Num_Credit_Inquiries', 'Credit_Mix', 'Outstanding_Debt',\n",
    "       'Payment_of_Min_Amount',\n",
    "       'Amount_invested_monthly', 'Monthly_Balance']"
   ]
  },
  {
   "cell_type": "code",
   "execution_count": null,
   "metadata": {},
   "outputs": [],
   "source": [
    "from statsmodels.stats.outliers_influence import variance_inflation_factor\n",
    "\n",
    "vif_data = pd.DataFrame()\n",
    "vif_data[\"feature\"] = X_train_trat[VIF4].columns\n",
    "\n",
    "vif_data['VIF'] = [variance_inflation_factor(X_train_trat[VIF4].values, i)\n",
    "                   for i in range(len(X_train_trat[VIF4].columns))]\n",
    "\n",
    "print(vif_data)\n",
    "\n"
   ]
  },
  {
   "cell_type": "code",
   "execution_count": null,
   "metadata": {},
   "outputs": [],
   "source": [
    "log_reg = sm.Logit(y_train, X_train_trat[VIF4]).fit()"
   ]
  },
  {
   "cell_type": "code",
   "execution_count": null,
   "metadata": {},
   "outputs": [],
   "source": [
    "log_reg.summary2()"
   ]
  },
  {
   "cell_type": "code",
   "execution_count": null,
   "metadata": {},
   "outputs": [],
   "source": [
    "VIF5 = ['Age', 'Annual_Income', 'Interest_Rate', 'Num_of_Loan',\n",
    "       'Delay_from_due_date', 'Changed_Credit_Limit',\n",
    "       'Num_Credit_Inquiries', 'Credit_Mix', 'Outstanding_Debt',\n",
    "       'Payment_of_Min_Amount',\n",
    "       'Amount_invested_monthly', 'Monthly_Balance']"
   ]
  },
  {
   "cell_type": "code",
   "execution_count": null,
   "metadata": {},
   "outputs": [],
   "source": [
    "log_reg = sm.Logit(y_train, X_train_trat[VIF5]).fit()"
   ]
  },
  {
   "cell_type": "code",
   "execution_count": null,
   "metadata": {},
   "outputs": [],
   "source": [
    "log_reg.summary2()"
   ]
  },
  {
   "cell_type": "code",
   "execution_count": null,
   "metadata": {},
   "outputs": [],
   "source": [
    "VIF6 = ['Age', 'Annual_Income', 'Interest_Rate', 'Num_of_Loan',\n",
    "       'Delay_from_due_date', 'Changed_Credit_Limit',\n",
    "       'Num_Credit_Inquiries', 'Credit_Mix', 'Outstanding_Debt',\n",
    "       'Payment_of_Min_Amount', 'Monthly_Balance']"
   ]
  },
  {
   "cell_type": "code",
   "execution_count": null,
   "metadata": {},
   "outputs": [],
   "source": [
    "log_reg = sm.Logit(y_train, X_train_trat[VIF6]).fit()"
   ]
  },
  {
   "cell_type": "code",
   "execution_count": null,
   "metadata": {},
   "outputs": [],
   "source": [
    "log_reg.summary2()"
   ]
  },
  {
   "cell_type": "markdown",
   "metadata": {},
   "source": [
    "# Making load of BinningProcess to separate final filtered variables into ranges\n",
    "---"
   ]
  },
  {
   "cell_type": "code",
   "execution_count": null,
   "metadata": {},
   "outputs": [],
   "source": [
    "import pickle\n",
    "\n",
    "from optbinning import OptimalBinning, BinningProcess\n",
    "\n",
    "with open('binning_process.pickle', 'rb') as handle:\n",
    "    binning_process = pickle.load(handle)"
   ]
  },
  {
   "cell_type": "code",
   "execution_count": null,
   "metadata": {},
   "outputs": [],
   "source": [
    "X_train_transf = binning_process.transform(X_train_trat, metric='bins')"
   ]
  },
  {
   "cell_type": "code",
   "execution_count": null,
   "metadata": {},
   "outputs": [],
   "source": [
    "y = y_train"
   ]
  },
  {
   "cell_type": "code",
   "execution_count": null,
   "metadata": {},
   "outputs": [],
   "source": [
    "import statsmodels.formula.api as smf\n",
    "\n",
    "log_reg = smf.logit(\"y ~ C(Age, Treatment(reference=0)) + \\\n",
    "                            C(Annual_Income, Treatment(reference=0)) + \\\n",
    "                            C(Interest_Rate, Treatment(reference=0)) + \\\n",
    "                            C(Num_of_Loan, Treatment(reference=0)) + \\\n",
    "                            C(Delay_from_due_date, Treatment(reference=0)) + \\\n",
    "                            C(Changed_Credit_Limit, Treatment(reference=0)) + \\\n",
    "                            C(Num_Credit_Inquiries, Treatment(reference=0)) + \\\n",
    "                            C(Credit_Mix, Treatment(reference=0)) + \\\n",
    "                            C(Outstanding_Debt, Treatment(reference=0)) + \\\n",
    "                            C(Payment_of_Min_Amount, Treatment(reference=0)) + \\\n",
    "                            C(Monthly_Balance, Treatment(reference=0))\", data=X_train_transf).fit()"
   ]
  },
  {
   "cell_type": "code",
   "execution_count": null,
   "metadata": {},
   "outputs": [],
   "source": [
    "log_reg.summary2()"
   ]
  },
  {
   "cell_type": "code",
   "execution_count": null,
   "metadata": {},
   "outputs": [],
   "source": [
    "import statsmodels.formula.api as smf\n",
    "\n",
    "log_reg = smf.logit(\"y ~ C(Age, Treatment(reference=0)) + \\\n",
    "                            C(Annual_Income, Treatment(reference=0)) + \\\n",
    "                            C(Interest_Rate, Treatment(reference=0)) + \\\n",
    "                            C(Delay_from_due_date, Treatment(reference=0)) + \\\n",
    "                            C(Changed_Credit_Limit, Treatment(reference=0)) + \\\n",
    "                            C(Num_Credit_Inquiries, Treatment(reference=0)) + \\\n",
    "                            C(Credit_Mix, Treatment(reference=0)) + \\\n",
    "                            C(Outstanding_Debt, Treatment(reference=0)) + \\\n",
    "                            C(Payment_of_Min_Amount, Treatment(reference=0)) + \\\n",
    "                            C(Monthly_Balance, Treatment(reference=0))\", data=X_train_transf).fit()"
   ]
  },
  {
   "cell_type": "code",
   "execution_count": null,
   "metadata": {},
   "outputs": [],
   "source": [
    "log_reg.summary2()"
   ]
  },
  {
   "cell_type": "code",
   "execution_count": null,
   "metadata": {},
   "outputs": [],
   "source": [
    "import statsmodels.formula.api as smf\n",
    "\n",
    "log_reg = smf.logit(\"y ~    C(Annual_Income, Treatment(reference=0)) + \\\n",
    "                            C(Interest_Rate, Treatment(reference=0)) + \\\n",
    "                            C(Delay_from_due_date, Treatment(reference=0)) + \\\n",
    "                            C(Changed_Credit_Limit, Treatment(reference=0)) + \\\n",
    "                            C(Num_Credit_Inquiries, Treatment(reference=0)) + \\\n",
    "                            C(Credit_Mix, Treatment(reference=0)) + \\\n",
    "                            C(Outstanding_Debt, Treatment(reference=0)) + \\\n",
    "                            C(Payment_of_Min_Amount, Treatment(reference=0)) + \\\n",
    "                            C(Monthly_Balance, Treatment(reference=0))\", data=X_train_transf).fit()"
   ]
  },
  {
   "cell_type": "code",
   "execution_count": null,
   "metadata": {},
   "outputs": [],
   "source": [
    "log_reg.summary2()"
   ]
  },
  {
   "cell_type": "code",
   "execution_count": null,
   "metadata": {},
   "outputs": [],
   "source": [
    "import statsmodels.formula.api as smf\n",
    "\n",
    "log_reg = smf.logit(\"y ~    C(Annual_Income, Treatment(reference=0)) + \\\n",
    "                            C(Interest_Rate, Treatment(reference=0)) + \\\n",
    "                            C(Delay_from_due_date, Treatment(reference=0)) + \\\n",
    "                            C(Changed_Credit_Limit, Treatment(reference=0)) + \\\n",
    "                            C(Num_Credit_Inquiries, Treatment(reference=0)) + \\\n",
    "                            C(Credit_Mix, Treatment(reference=0)) + \\\n",
    "                            C(Outstanding_Debt, Treatment(reference=0)) + \\\n",
    "                            C(Payment_of_Min_Amount, Treatment(reference=0)) \\\n",
    "                            \", data=X_train_transf).fit()"
   ]
  },
  {
   "cell_type": "code",
   "execution_count": null,
   "metadata": {},
   "outputs": [],
   "source": [
    "log_reg.summary2()"
   ]
  },
  {
   "cell_type": "markdown",
   "metadata": {},
   "source": [
    "# Now with final variables we can start create our **credit score** model\n",
    "---"
   ]
  },
  {
   "cell_type": "markdown",
   "metadata": {},
   "source": [
    "Import dataset"
   ]
  },
  {
   "cell_type": "code",
   "execution_count": null,
   "metadata": {},
   "outputs": [],
   "source": [
    "df = pd.read_csv('datasets/train.csv')"
   ]
  },
  {
   "cell_type": "markdown",
   "metadata": {},
   "source": [
    "Create 'SAFRA' colum again"
   ]
  },
  {
   "cell_type": "code",
   "execution_count": null,
   "metadata": {},
   "outputs": [],
   "source": [
    "import random\n",
    "\n",
    "safras = []\n",
    "\n",
    "for ano in range(2013, 2024):\n",
    "    for mes in range(1, 13):\n",
    "        safras.append(f\"{ano}{mes:02d}\")\n",
    "\n",
    "safras = safras[:len(df)] * (len(df) // len(safras)) + safras[:len(df) % len(safras)]\n",
    "\n",
    "random.shuffle(safras)\n",
    "\n",
    "df.insert(1, 'SAFRA', safras[:len(df)])\n",
    "df['SAFRA'] = df['SAFRA'].astype(int)"
   ]
  },
  {
   "cell_type": "markdown",
   "metadata": {},
   "source": [
    "Set the columns of dataset i wanna use, this columns is the most import colums of dataset do create a credit score model"
   ]
  },
  {
   "cell_type": "code",
   "execution_count": null,
   "metadata": {},
   "outputs": [],
   "source": [
    "df = df[['ID', 'SAFRA', 'Annual_Income', 'Interest_Rate', 'Delay_from_due_date',\n",
    "         'Changed_Credit_Limit', 'Num_Credit_Inquiries', 'Credit_Mix',\n",
    "         'Outstanding_Debt', 'Payment_of_Min_Amount', 'Credit_Score']]"
   ]
  },
  {
   "cell_type": "markdown",
   "metadata": {},
   "source": [
    "Treating the columns again"
   ]
  },
  {
   "cell_type": "code",
   "execution_count": null,
   "metadata": {},
   "outputs": [],
   "source": [
    "df['Annual_Income'] = df['Annual_Income'].str.replace('_', '')\n",
    "df['Annual_Income'] = df['Annual_Income'].astype(float)\n",
    "median_annual_income = df['Annual_Income'].median()\n",
    "df['Annual_Income'].fillna(median_annual_income, inplace=True)\n",
    "df['Changed_Credit_Limit'] = df['Changed_Credit_Limit'].str.replace('_', '')\n",
    "df['Changed_Credit_Limit'] = df['Changed_Credit_Limit'].replace('', float('nan'))\n",
    "median_changed_credit_limit = df['Changed_Credit_Limit'].median()\n",
    "df['Changed_Credit_Limit'].fillna(median_changed_credit_limit, inplace=True)\n",
    "df['Changed_Credit_Limit'] = df['Changed_Credit_Limit'].astype(float)\n",
    "df['Outstanding_Debt'] = df['Outstanding_Debt'].str.replace('_', '')\n",
    "df['Outstanding_Debt'] = df['Outstanding_Debt'].astype(float)\n",
    "median_outstanding_debt = df['Outstanding_Debt'].median()\n",
    "df['Outstanding_Debt'].fillna(median_outstanding_debt, inplace=True)\n",
    "median_num_credit_inquiries = df['Num_Credit_Inquiries'].mean()\n",
    "df['Num_Credit_Inquiries'].fillna(median_num_credit_inquiries, inplace=True)"
   ]
  },
  {
   "cell_type": "code",
   "execution_count": null,
   "metadata": {},
   "outputs": [],
   "source": [
    "df.head()"
   ]
  },
  {
   "cell_type": "code",
   "execution_count": null,
   "metadata": {},
   "outputs": [],
   "source": [
    "import numpy as np\n",
    "\n",
    "def transform_credit_score(credit_score):\n",
    "    if credit_score == 'Good':\n",
    "        return 1\n",
    "    elif credit_score == 'Poor':\n",
    "        return 0\n",
    "    else:\n",
    "        return np.random.choice([0, 1])"
   ]
  },
  {
   "cell_type": "code",
   "execution_count": null,
   "metadata": {},
   "outputs": [],
   "source": [
    "df['Credit_Score'] = df['Credit_Score'].apply(transform_credit_score)"
   ]
  },
  {
   "cell_type": "code",
   "execution_count": null,
   "metadata": {},
   "outputs": [],
   "source": [
    "df.dropna(inplace=True)"
   ]
  },
  {
   "cell_type": "code",
   "execution_count": null,
   "metadata": {},
   "outputs": [],
   "source": [
    "def transform_payment_min_amount(payment_of_min_amount):\n",
    "    if payment_of_min_amount == 'Yes':\n",
    "        return 1\n",
    "    elif payment_of_min_amount == 'No':\n",
    "        return 0\n",
    "    else:\n",
    "        return np.random.choice([0, 1])"
   ]
  },
  {
   "cell_type": "code",
   "execution_count": null,
   "metadata": {},
   "outputs": [],
   "source": [
    "df['Payment_of_Min_Amount'] = df['Payment_of_Min_Amount'].apply(transform_payment_min_amount)"
   ]
  },
  {
   "cell_type": "code",
   "execution_count": null,
   "metadata": {},
   "outputs": [],
   "source": [
    "def transform_credit_mix(credit_mix):\n",
    "    if credit_mix == 'Good':\n",
    "        return 1\n",
    "    elif credit_mix == 'Bad':\n",
    "        return 0\n",
    "    else:\n",
    "        return np.random.choice([0, 1])"
   ]
  },
  {
   "cell_type": "code",
   "execution_count": null,
   "metadata": {},
   "outputs": [],
   "source": [
    "df['Credit_Mix'] = df['Credit_Mix'].apply(transform_credit_mix)"
   ]
  },
  {
   "cell_type": "markdown",
   "metadata": {},
   "source": [
    "# Treating the variables using the range that BinningProcess created for us.\n",
    "---"
   ]
  },
  {
   "cell_type": "markdown",
   "metadata": {},
   "source": [
    "| Variable                                         | Coefficient | Standard Error | Z-Statistic  | P-Value  | 95% Confidence Interval         |\n",
    "|--------------------------------------------------|-------------|-------------|---------------|-----------|---------------------------------|\n",
    "| Intercept                                        | 0.5595      | 0.0328      | 17.0771       | 0.0000    | [0.4953, 0.6237]                |\n",
    "| C(Annual_Income, Treatment(reference=0))[T.[21013.22, 83719.12)] | 0.0507 | 0.0226 | 2.2455 | 0.0247 | [0.0064, 0.0949] |\n",
    "| C(Annual_Income, Treatment(reference=0))[T.[83719.12, inf)] | 0.1248 | 0.0298 | 4.1857 | 0.0000 | [0.0663, 0.1832] |\n",
    "| C(Interest_Rate, Treatment(reference=0))[T.[14.50, 20.50)] | -0.3831 | 0.0266 | -14.4093 | 0.0000 | [-0.4352, -0.3310] |\n",
    "| C(Interest_Rate, Treatment(reference=0))[T.[20.50, inf)] | -0.6633 | 0.0359 | -18.4565 | 0.0000 | [-0.7338, -0.5929] |\n",
    "| C(Delay_from_due_date, Treatment(reference=0))[T.[15.50, 32.50)] | -0.4109 | 0.0220 | -18.6689 | 0.0000 | [-0.4541, -0.3678] |\n",
    "| C(Delay_from_due_date, Treatment(reference=0))[T.[32.50, inf)] | -0.6201 | 0.0382 | -16.2431 | 0.0000 | [-0.6949, -0.5452] |\n",
    "| C(Changed_Credit_Limit, Treatment(reference=0))[T.[12.01, inf)] | 0.1949 | 0.0279 | 6.9756 | 0.0000 | [0.1402, 0.2497] |\n",
    "| C(Changed_Credit_Limit, Treatment(reference=0))[T.[6.77, 12.01)] | -0.0241 | 0.0238 | -1.0108 | 0.3121 | [-0.0708, 0.0226] |\n",
    "| C(Num_Credit_Inquiries, Treatment(reference=0))[T.[5.50, 8.50)] | -0.1706 | 0.0268 | -6.3755 | 0.0000 | [-0.2231, -0.1182] |\n",
    "| C(Num_Credit_Inquiries, Treatment(reference=0))[T.[8.50, inf)] | -0.3566 | 0.0311 | -11.4684 | 0.0000 | [-0.4175, -0.2956] |\n",
    "| C(Credit_Mix, Treatment(reference=0))[T.[0.50, inf)] | 0.1018 | 0.0216 | 4.7055 | 0.0000 | [0.0594, 0.1441] |\n",
    "| C(Outstanding_Debt, Treatment(reference=0))[T.[1483.22, 2704.17)] | -0.9129 | 0.0346 | -26.3976 | 0.0000 | [-0.9807, -0.8451] |\n",
    "| C(Outstanding_Debt, Treatment(reference=0))[T.[2704.17, inf)] | -0.0209 | 0.0415 | -0.5039 | 0.6143 | [-0.1023, 0.0605] |\n",
    "| C(Payment_of_Min_Amount, Treatment(reference=0))[T.[0.50, inf)] | -0.3157 | 0.0255 | -12.3710 | 0.0000 | [-0.3657, -0.2657] |\n"
   ]
  },
  {
   "cell_type": "code",
   "execution_count": null,
   "metadata": {},
   "outputs": [],
   "source": [
    "df.loc[df['Annual_Income'] < 21013.22, 'Annual_Income_trat'] = 0\n",
    "df.loc[(df['Annual_Income'] >= 21013.22) & (df['Annual_Income'] < 83719.12), 'Annual_Income_trat'] = 0.0507\n",
    "df.loc[df['Annual_Income'] >= 83719.12, 'Annual_Income_trat'] = 0.1248"
   ]
  },
  {
   "cell_type": "code",
   "execution_count": null,
   "metadata": {},
   "outputs": [],
   "source": [
    "df['Annual_Income_trat'].value_counts()"
   ]
  },
  {
   "cell_type": "code",
   "execution_count": null,
   "metadata": {},
   "outputs": [],
   "source": [
    "df.loc[df['Interest_Rate'] < 14.50, 'Interest_Rate_trat'] = 0\n",
    "df.loc[(df['Interest_Rate'] >= 14.50) & (df['Interest_Rate'] < 20.50), 'Interest_Rate_trat'] = -0.3831\n",
    "df.loc[df['Interest_Rate'] >= 20.50, 'Interest_Rate_trat'] = -0.6633"
   ]
  },
  {
   "cell_type": "code",
   "execution_count": null,
   "metadata": {},
   "outputs": [],
   "source": [
    "df['Interest_Rate_trat'].value_counts()"
   ]
  },
  {
   "cell_type": "code",
   "execution_count": null,
   "metadata": {},
   "outputs": [],
   "source": [
    "df.loc[df['Delay_from_due_date'] < 15.50, 'Delay_from_due_date_trat'] = 0\n",
    "df.loc[(df['Delay_from_due_date'] >= 15.50) & (df['Delay_from_due_date'] < 32.50), 'Delay_from_due_date_trat'] = -0.4109\n",
    "df.loc[df['Delay_from_due_date'] >= 32.50, 'Delay_from_due_date_trat'] = -0.6201"
   ]
  },
  {
   "cell_type": "code",
   "execution_count": null,
   "metadata": {},
   "outputs": [],
   "source": [
    "df['Delay_from_due_date_trat'].value_counts()"
   ]
  },
  {
   "cell_type": "code",
   "execution_count": null,
   "metadata": {},
   "outputs": [],
   "source": [
    "df.loc[df['Changed_Credit_Limit'] < 6.77, 'Changed_Credit_Limit_trat'] = 0\n",
    "df.loc[(df['Changed_Credit_Limit'] >= 6.77) & (df['Changed_Credit_Limit'] < 12.01), 'Changed_Credit_Limit_trat'] = -0.0241\n",
    "df.loc[df['Changed_Credit_Limit'] >= 12.01, 'Changed_Credit_Limit_trat'] = 0.1949"
   ]
  },
  {
   "cell_type": "code",
   "execution_count": null,
   "metadata": {},
   "outputs": [],
   "source": [
    "df['Changed_Credit_Limit_trat'].value_counts()"
   ]
  },
  {
   "cell_type": "code",
   "execution_count": null,
   "metadata": {},
   "outputs": [],
   "source": [
    "df.loc[df['Num_Credit_Inquiries'] < 5.50, 'Num_Credit_Inquiries_trat'] = 0\n",
    "df.loc[(df['Num_Credit_Inquiries'] >= 5.50) & (df['Num_Credit_Inquiries'] < 8.50), 'Num_Credit_Inquiries_trat'] = -0.1706\n",
    "df.loc[df['Num_Credit_Inquiries'] >= 8.50, 'Num_Credit_Inquiries_trat'] = -0.3566"
   ]
  },
  {
   "cell_type": "code",
   "execution_count": null,
   "metadata": {},
   "outputs": [],
   "source": [
    "df['Num_Credit_Inquiries_trat'].value_counts()"
   ]
  },
  {
   "cell_type": "code",
   "execution_count": null,
   "metadata": {},
   "outputs": [],
   "source": [
    "df.loc[df['Credit_Mix'] < 0.50, 'Credit_Mix_trat'] = 0\n",
    "df.loc[df['Credit_Mix'] >= 0.50, 'Credit_Mix_trat'] = 0.1018"
   ]
  },
  {
   "cell_type": "code",
   "execution_count": null,
   "metadata": {},
   "outputs": [],
   "source": [
    "df['Credit_Mix'].value_counts()"
   ]
  },
  {
   "cell_type": "code",
   "execution_count": null,
   "metadata": {},
   "outputs": [],
   "source": [
    "df.loc[df['Outstanding_Debt'] < 1483.22, 'Outstanding_Debt_trat'] = 0\n",
    "df.loc[(df['Outstanding_Debt'] >= 1483.22) & (df['Outstanding_Debt'] < 2704.17), 'Outstanding_Debt_trat'] = -0.9129\n",
    "df.loc[df['Outstanding_Debt'] >= 2704.17, 'Outstanding_Debt_trat'] = -0.0209"
   ]
  },
  {
   "cell_type": "code",
   "execution_count": null,
   "metadata": {},
   "outputs": [],
   "source": [
    "df['Outstanding_Debt_trat'].value_counts()"
   ]
  },
  {
   "cell_type": "code",
   "execution_count": null,
   "metadata": {},
   "outputs": [],
   "source": [
    "df.loc[df['Payment_of_Min_Amount'] < 0.50, 'Payment_of_Min_Amount_trat'] = 0\n",
    "df.loc[df['Payment_of_Min_Amount'] >= 0.50, 'Payment_of_Min_Amount_trat'] = -0.3157"
   ]
  },
  {
   "cell_type": "code",
   "execution_count": null,
   "metadata": {},
   "outputs": [],
   "source": [
    "df['Payment_of_Min_Amount'].value_counts()"
   ]
  },
  {
   "cell_type": "markdown",
   "metadata": {},
   "source": [
    "Creating Intercept colum"
   ]
  },
  {
   "cell_type": "code",
   "execution_count": null,
   "metadata": {},
   "outputs": [],
   "source": [
    "df['Intercept'] = 0.5141"
   ]
  },
  {
   "cell_type": "code",
   "execution_count": null,
   "metadata": {},
   "outputs": [],
   "source": [
    "df = df[['ID', 'SAFRA', 'Credit_Score', 'Intercept', 'Annual_Income_trat', 'Interest_Rate_trat', 'Delay_from_due_date_trat',\n",
    "         'Changed_Credit_Limit_trat', 'Num_Credit_Inquiries_trat', 'Credit_Mix_trat',\n",
    "         'Outstanding_Debt_trat', 'Payment_of_Min_Amount_trat']]"
   ]
  },
  {
   "cell_type": "code",
   "execution_count": null,
   "metadata": {},
   "outputs": [],
   "source": [
    "df.head()"
   ]
  },
  {
   "cell_type": "markdown",
   "metadata": {},
   "source": [
    "# Creating **pred_lin** and **score** colums\n",
    "---"
   ]
  },
  {
   "cell_type": "markdown",
   "metadata": {},
   "source": [
    "Prediction"
   ]
  },
  {
   "cell_type": "code",
   "execution_count": null,
   "metadata": {},
   "outputs": [],
   "source": [
    "df['pred_lin'] = df['Intercept'] + df['Annual_Income_trat'] + df['Interest_Rate_trat'] + df['Delay_from_due_date_trat'] \\\n",
    "      + df['Changed_Credit_Limit_trat'] + df['Num_Credit_Inquiries_trat'] + df['Credit_Mix_trat'] \\\n",
    "      + df['Outstanding_Debt_trat'] + df['Payment_of_Min_Amount_trat']"
   ]
  },
  {
   "cell_type": "markdown",
   "metadata": {},
   "source": [
    "Score"
   ]
  },
  {
   "cell_type": "code",
   "execution_count": null,
   "metadata": {},
   "outputs": [],
   "source": [
    "import numpy as np\n",
    "\n",
    "df['score'] = 1 / (1 + np.exp(-df['pred_lin']))"
   ]
  },
  {
   "cell_type": "code",
   "execution_count": null,
   "metadata": {},
   "outputs": [],
   "source": [
    "df.head()"
   ]
  },
  {
   "cell_type": "markdown",
   "metadata": {},
   "source": [
    "# Spliting the dataset\n",
    "---"
   ]
  },
  {
   "cell_type": "code",
   "execution_count": null,
   "metadata": {},
   "outputs": [],
   "source": [
    "OOT = df.loc[df['SAFRA'] >= 202310 ]\n",
    "OOT['SAFRA'].groupby(OOT['SAFRA']).count()\n",
    "\n",
    "DEV = df.loc[df['SAFRA'] < 202310 ]\n",
    "DEV['SAFRA'].groupby(DEV['SAFRA']).count()\n",
    "from sklearn.model_selection import train_test_split\n",
    "\n",
    "X_train, X_test = train_test_split(DEV, test_size=0.3, random_state=42)"
   ]
  },
  {
   "cell_type": "markdown",
   "metadata": {},
   "source": [
    "# Cutting the dataset into 5 parts\n",
    "---"
   ]
  },
  {
   "cell_type": "markdown",
   "metadata": {},
   "source": [
    "encoding 'score' column values into ranges based on quantiles"
   ]
  },
  {
   "cell_type": "code",
   "execution_count": null,
   "metadata": {},
   "outputs": [],
   "source": [
    "X_train['fx_score'] = pd.qcut(X_train['score'], 5, labels=False)"
   ]
  },
  {
   "cell_type": "code",
   "execution_count": null,
   "metadata": {},
   "outputs": [],
   "source": [
    "X_train['fx_score'].value_counts()"
   ]
  },
  {
   "cell_type": "code",
   "execution_count": null,
   "metadata": {},
   "outputs": [],
   "source": [
    "broken_developed = list(X_train.groupby(['fx_score']).agg({'score': [np.max]})['score']['amax'])"
   ]
  },
  {
   "cell_type": "markdown",
   "metadata": {},
   "source": [
    "# Creating new colum **'fx_score'**"
   ]
  },
  {
   "cell_type": "markdown",
   "metadata": {},
   "source": [
    "We created a numeric column where the higher the number, the greater the risk of non-payment of the debt"
   ]
  },
  {
   "cell_type": "code",
   "execution_count": null,
   "metadata": {},
   "outputs": [],
   "source": [
    "broken_developed"
   ]
  },
  {
   "cell_type": "code",
   "execution_count": null,
   "metadata": {},
   "outputs": [],
   "source": [
    "def fx_score(score):\n",
    "    if score <= broken_developed[0]:\n",
    "        return 0\n",
    "    if score <= broken_developed[1]:\n",
    "        return 1\n",
    "    if score <= broken_developed[2]:\n",
    "        return 2\n",
    "    if score <= broken_developed[3]:\n",
    "        return 3\n",
    "    if score <= broken_developed[4]:\n",
    "        return 4\n",
    "    if score <= broken_developed[5]:\n",
    "        return 5\n",
    "    if score <= broken_developed[6]:\n",
    "        return 6\n",
    "    return -1"
   ]
  },
  {
   "cell_type": "code",
   "execution_count": null,
   "metadata": {},
   "outputs": [],
   "source": [
    "X_test['fx_score'] = X_test['score'].map(fx_score)"
   ]
  },
  {
   "cell_type": "code",
   "execution_count": null,
   "metadata": {},
   "outputs": [],
   "source": [
    "X_test.head()"
   ]
  },
  {
   "cell_type": "code",
   "execution_count": null,
   "metadata": {},
   "outputs": [],
   "source": [
    "X_test['fx_score'].value_counts()"
   ]
  },
  {
   "cell_type": "code",
   "execution_count": null,
   "metadata": {},
   "outputs": [],
   "source": [
    "X_train.to_csv('X_train_final.csv', index=None)\n",
    "X_test.to_csv('X_test_final.csv', index=None)"
   ]
  },
  {
   "cell_type": "markdown",
   "metadata": {},
   "source": [
    "### KS2 (Kolmogorov-Smirnov 2-Sample Test))"
   ]
  },
  {
   "cell_type": "markdown",
   "metadata": {},
   "source": [
    "> A KS2 less than 0.2 is considered weak.<br>\n",
    "> A KS2 between 0.2 and 0.3 is considered moderate.<br>\n",
    "> A KS2 above 0.3 is considered strong.<br>"
   ]
  },
  {
   "cell_type": "code",
   "execution_count": null,
   "metadata": {},
   "outputs": [],
   "source": [
    "from scipy import stats\n",
    "\n",
    "stats.ks_2samp(X_train['score'].loc[X_train['Credit_Score'] == 1], X_train['score'].loc[X_train['Credit_Score'] == 0])"
   ]
  },
  {
   "cell_type": "code",
   "execution_count": null,
   "metadata": {},
   "outputs": [],
   "source": [
    "stats.ks_2samp(X_test['score'].loc[X_test['Credit_Score'] == 1], X_test['score'].loc[X_test['Credit_Score'] == 0])"
   ]
  },
  {
   "cell_type": "code",
   "execution_count": null,
   "metadata": {},
   "outputs": [],
   "source": [
    "stats.ks_2samp(OOT['score'].loc[OOT['Credit_Score'] == 1], OOT['score'].loc[OOT['Credit_Score'] == 0])"
   ]
  },
  {
   "cell_type": "markdown",
   "metadata": {},
   "source": [
    "### Calculo KS1"
   ]
  },
  {
   "cell_type": "code",
   "execution_count": null,
   "metadata": {},
   "outputs": [],
   "source": [
    "stats.ks_2samp(df['score'].loc[df['SAFRA'] >= 202310], df['score'].loc[df['SAFRA'] < 202310])"
   ]
  }
 ],
 "metadata": {
  "kernelspec": {
   "display_name": "venv",
   "language": "python",
   "name": "python3"
  },
  "language_info": {
   "codemirror_mode": {
    "name": "ipython",
    "version": 3
   },
   "file_extension": ".py",
   "mimetype": "text/x-python",
   "name": "python",
   "nbconvert_exporter": "python",
   "pygments_lexer": "ipython3",
   "version": "3.11.0"
  },
  "orig_nbformat": 4
 },
 "nbformat": 4,
 "nbformat_minor": 2
}
